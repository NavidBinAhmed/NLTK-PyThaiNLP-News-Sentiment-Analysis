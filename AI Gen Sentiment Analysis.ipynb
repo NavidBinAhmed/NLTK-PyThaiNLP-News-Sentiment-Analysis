{
 "cells": [
  {
   "cell_type": "markdown",
   "id": "0fdf9579",
   "metadata": {},
   "source": [
    "# Prediction of SET Index Sentiment from News \n",
    "Classes:\n",
    "- positive/1, \n",
    "- slightly positive/0+, \n",
    "\n",
    "- neutral/0, \n",
    "\n",
    "- slightly negative/0- \n",
    "- negative/-1."
   ]
  },
  {
   "cell_type": "code",
   "execution_count": null,
   "id": "65605340",
   "metadata": {},
   "outputs": [],
   "source": [
    "import pandas as pd\n",
    "import numpy as np\n",
    "import matplotlib.pyplot as plt\n",
    "import seaborn as sns\n",
    "import nltk"
   ]
  },
  {
   "cell_type": "markdown",
   "id": "76957254",
   "metadata": {},
   "source": [
    "downloaded some packages and modules:\n",
    "- pythainlp.sentiment (manually parsed the modules)\n",
    "- plt.style.use('ggplot')\n",
    "- nltk.download('punkt')\n",
    "- nltk.download('maxent_ne_chunker')\n",
    "- nltk.download('vader_lexicon')"
   ]
  },
  {
   "cell_type": "code",
   "execution_count": 102,
   "id": "22801cfc",
   "metadata": {},
   "outputs": [
    {
     "name": "stdout",
     "output_type": "stream",
     "text": [
      "Requirement already satisfied: pythainlp in c:\\users\\hp\\anaconda3\\lib\\site-packages (3.1.1)\n",
      "Requirement already satisfied: requests>=2.22.0 in c:\\users\\hp\\anaconda3\\lib\\site-packages (from pythainlp) (2.28.1)\n",
      "Requirement already satisfied: certifi>=2017.4.17 in c:\\users\\hp\\anaconda3\\lib\\site-packages (from requests>=2.22.0->pythainlp) (2022.9.14)\n",
      "Requirement already satisfied: charset-normalizer<3,>=2 in c:\\users\\hp\\anaconda3\\lib\\site-packages (from requests>=2.22.0->pythainlp) (2.0.4)\n",
      "Requirement already satisfied: idna<4,>=2.5 in c:\\users\\hp\\anaconda3\\lib\\site-packages (from requests>=2.22.0->pythainlp) (3.3)\n",
      "Requirement already satisfied: urllib3<1.27,>=1.21.1 in c:\\users\\hp\\anaconda3\\lib\\site-packages (from requests>=2.22.0->pythainlp) (1.26.11)\n",
      "Note: you may need to restart the kernel to use updated packages.\n"
     ]
    }
   ],
   "source": [
    "pip install pythainlp"
   ]
  },
  {
   "cell_type": "code",
   "execution_count": 161,
   "id": "53f30fee",
   "metadata": {},
   "outputs": [],
   "source": [
    "df = pd.read_csv('data.csv')"
   ]
  },
  {
   "cell_type": "code",
   "execution_count": 162,
   "id": "53e57787",
   "metadata": {},
   "outputs": [
    {
     "data": {
      "text/html": [
       "<div>\n",
       "<style scoped>\n",
       "    .dataframe tbody tr th:only-of-type {\n",
       "        vertical-align: middle;\n",
       "    }\n",
       "\n",
       "    .dataframe tbody tr th {\n",
       "        vertical-align: top;\n",
       "    }\n",
       "\n",
       "    .dataframe thead th {\n",
       "        text-align: right;\n",
       "    }\n",
       "</style>\n",
       "<table border=\"1\" class=\"dataframe\">\n",
       "  <thead>\n",
       "    <tr style=\"text-align: right;\">\n",
       "      <th></th>\n",
       "      <th>link</th>\n",
       "      <th>paragraph_info</th>\n",
       "      <th>title</th>\n",
       "      <th>Pat</th>\n",
       "    </tr>\n",
       "  </thead>\n",
       "  <tbody>\n",
       "    <tr>\n",
       "      <th>0</th>\n",
       "      <td>https://www.trisrating.com/th/rating-news/180-...</td>\n",
       "      <td>ทริสเรทติ้งคงอันดับเครดิตองค์กรของ บริษัท ปริญ...</td>\n",
       "      <td>ทริสเรทติ้งจัดอันดับเครดิตหุ้นกู้ไม่ด้อยสิทธิ ...</td>\n",
       "      <td>0</td>\n",
       "    </tr>\n",
       "    <tr>\n",
       "      <th>1</th>\n",
       "      <td>https://www.trisrating.com/th/rating-news/180-...</td>\n",
       "      <td>อันดับเครดิตสะท้อนถึงฐานรายได้ของบริษัทที่มีขน...</td>\n",
       "      <td>ทริสเรทติ้งจัดอันดับเครดิตหุ้นกู้ไม่ด้อยสิทธิ ...</td>\n",
       "      <td>0-</td>\n",
       "    </tr>\n",
       "    <tr>\n",
       "      <th>2</th>\n",
       "      <td>https://www.trisrating.com/th/rating-news/180-...</td>\n",
       "      <td>อันดับเครดิตของหุ้นกู้มีประกันของบริษัทเพิ่มขึ...</td>\n",
       "      <td>ทริสเรทติ้งจัดอันดับเครดิตหุ้นกู้ไม่ด้อยสิทธิ ...</td>\n",
       "      <td>0</td>\n",
       "    </tr>\n",
       "    <tr>\n",
       "      <th>3</th>\n",
       "      <td>https://www.trisrating.com/th/rating-news/180-...</td>\n",
       "      <td>12% ในช่วงไตรมาสแรกของปี 2563 รายได้ของบริษัทอ...</td>\n",
       "      <td>ทริสเรทติ้งจัดอันดับเครดิตหุ้นกู้ไม่ด้อยสิทธิ ...</td>\n",
       "      <td>0</td>\n",
       "    </tr>\n",
       "    <tr>\n",
       "      <th>4</th>\n",
       "      <td>https://www.trisrating.com/th/rating-news/180-...</td>\n",
       "      <td>ภายใต้สมมติฐานของทริสเรทติ้ง คาดว่ารายได้ของบร...</td>\n",
       "      <td>ทริสเรทติ้งจัดอันดับเครดิตหุ้นกู้ไม่ด้อยสิทธิ ...</td>\n",
       "      <td>0+</td>\n",
       "    </tr>\n",
       "  </tbody>\n",
       "</table>\n",
       "</div>"
      ],
      "text/plain": [
       "                                                link  \\\n",
       "0  https://www.trisrating.com/th/rating-news/180-...   \n",
       "1  https://www.trisrating.com/th/rating-news/180-...   \n",
       "2  https://www.trisrating.com/th/rating-news/180-...   \n",
       "3  https://www.trisrating.com/th/rating-news/180-...   \n",
       "4  https://www.trisrating.com/th/rating-news/180-...   \n",
       "\n",
       "                                      paragraph_info  \\\n",
       "0  ทริสเรทติ้งคงอันดับเครดิตองค์กรของ บริษัท ปริญ...   \n",
       "1  อันดับเครดิตสะท้อนถึงฐานรายได้ของบริษัทที่มีขน...   \n",
       "2  อันดับเครดิตของหุ้นกู้มีประกันของบริษัทเพิ่มขึ...   \n",
       "3  12% ในช่วงไตรมาสแรกของปี 2563 รายได้ของบริษัทอ...   \n",
       "4  ภายใต้สมมติฐานของทริสเรทติ้ง คาดว่ารายได้ของบร...   \n",
       "\n",
       "                                               title Pat  \n",
       "0  ทริสเรทติ้งจัดอันดับเครดิตหุ้นกู้ไม่ด้อยสิทธิ ...   0  \n",
       "1  ทริสเรทติ้งจัดอันดับเครดิตหุ้นกู้ไม่ด้อยสิทธิ ...  0-  \n",
       "2  ทริสเรทติ้งจัดอันดับเครดิตหุ้นกู้ไม่ด้อยสิทธิ ...   0  \n",
       "3  ทริสเรทติ้งจัดอันดับเครดิตหุ้นกู้ไม่ด้อยสิทธิ ...   0  \n",
       "4  ทริสเรทติ้งจัดอันดับเครดิตหุ้นกู้ไม่ด้อยสิทธิ ...  0+  "
      ]
     },
     "execution_count": 162,
     "metadata": {},
     "output_type": "execute_result"
    }
   ],
   "source": [
    "df.head()"
   ]
  },
  {
   "cell_type": "code",
   "execution_count": 163,
   "id": "6e111612",
   "metadata": {},
   "outputs": [
    {
     "data": {
      "text/plain": [
       "(400, 4)"
      ]
     },
     "execution_count": 163,
     "metadata": {},
     "output_type": "execute_result"
    }
   ],
   "source": [
    "df.shape"
   ]
  },
  {
   "cell_type": "code",
   "execution_count": 164,
   "id": "b3a67675",
   "metadata": {},
   "outputs": [
    {
     "data": {
      "text/html": [
       "<div>\n",
       "<style scoped>\n",
       "    .dataframe tbody tr th:only-of-type {\n",
       "        vertical-align: middle;\n",
       "    }\n",
       "\n",
       "    .dataframe tbody tr th {\n",
       "        vertical-align: top;\n",
       "    }\n",
       "\n",
       "    .dataframe thead th {\n",
       "        text-align: right;\n",
       "    }\n",
       "</style>\n",
       "<table border=\"1\" class=\"dataframe\">\n",
       "  <thead>\n",
       "    <tr style=\"text-align: right;\">\n",
       "      <th></th>\n",
       "      <th>paragraph_info</th>\n",
       "      <th>title</th>\n",
       "      <th>Pat</th>\n",
       "    </tr>\n",
       "  </thead>\n",
       "  <tbody>\n",
       "    <tr>\n",
       "      <th>0</th>\n",
       "      <td>ทริสเรทติ้งคงอันดับเครดิตองค์กรของ บริษัท ปริญ...</td>\n",
       "      <td>ทริสเรทติ้งจัดอันดับเครดิตหุ้นกู้ไม่ด้อยสิทธิ ...</td>\n",
       "      <td>0</td>\n",
       "    </tr>\n",
       "    <tr>\n",
       "      <th>1</th>\n",
       "      <td>อันดับเครดิตสะท้อนถึงฐานรายได้ของบริษัทที่มีขน...</td>\n",
       "      <td>ทริสเรทติ้งจัดอันดับเครดิตหุ้นกู้ไม่ด้อยสิทธิ ...</td>\n",
       "      <td>0-</td>\n",
       "    </tr>\n",
       "    <tr>\n",
       "      <th>2</th>\n",
       "      <td>อันดับเครดิตของหุ้นกู้มีประกันของบริษัทเพิ่มขึ...</td>\n",
       "      <td>ทริสเรทติ้งจัดอันดับเครดิตหุ้นกู้ไม่ด้อยสิทธิ ...</td>\n",
       "      <td>0</td>\n",
       "    </tr>\n",
       "    <tr>\n",
       "      <th>3</th>\n",
       "      <td>12% ในช่วงไตรมาสแรกของปี 2563 รายได้ของบริษัทอ...</td>\n",
       "      <td>ทริสเรทติ้งจัดอันดับเครดิตหุ้นกู้ไม่ด้อยสิทธิ ...</td>\n",
       "      <td>0</td>\n",
       "    </tr>\n",
       "    <tr>\n",
       "      <th>4</th>\n",
       "      <td>ภายใต้สมมติฐานของทริสเรทติ้ง คาดว่ารายได้ของบร...</td>\n",
       "      <td>ทริสเรทติ้งจัดอันดับเครดิตหุ้นกู้ไม่ด้อยสิทธิ ...</td>\n",
       "      <td>0+</td>\n",
       "    </tr>\n",
       "    <tr>\n",
       "      <th>...</th>\n",
       "      <td>...</td>\n",
       "      <td>...</td>\n",
       "      <td>...</td>\n",
       "    </tr>\n",
       "    <tr>\n",
       "      <th>395</th>\n",
       "      <td>ในด้านส่วนแบ่งทางการตลาดเมื่อพิจารณาจากรายได้แ...</td>\n",
       "      <td>ทริสเรทติ้งคงอันดับเครดิตองค์กร &amp; หุ้นกู้ไม่ด้...</td>\n",
       "      <td>0+</td>\n",
       "    </tr>\n",
       "    <tr>\n",
       "      <th>396</th>\n",
       "      <td>ในช่วง 3 ปีข้างหน้าทริสเรทติ้งคาดว่ารายได้จากก...</td>\n",
       "      <td>ทริสเรทติ้งคงอันดับเครดิตองค์กร &amp; หุ้นกู้ไม่ด้...</td>\n",
       "      <td>0+</td>\n",
       "    </tr>\n",
       "    <tr>\n",
       "      <th>397</th>\n",
       "      <td>ทริสเรทติ้งมองว่าบริษัททรู คอร์ปอเรชั่น มีจําน...</td>\n",
       "      <td>ทริสเรทติ้งคงอันดับเครดิตองค์กร &amp; หุ้นกู้ไม่ด้...</td>\n",
       "      <td>0</td>\n",
       "    </tr>\n",
       "    <tr>\n",
       "      <th>398</th>\n",
       "      <td>นอกจากนี้ ในเดือนกุมภาพันธ์ 2563 บริษัททรู มูฟ...</td>\n",
       "      <td>ทริสเรทติ้งคงอันดับเครดิตองค์กร &amp; หุ้นกู้ไม่ด้...</td>\n",
       "      <td>1</td>\n",
       "    </tr>\n",
       "    <tr>\n",
       "      <th>399</th>\n",
       "      <td>ทรูออนไลน์ (TrueOnline) ซึ่งเป็นธุรกิจอินเทอร์...</td>\n",
       "      <td>ทริสเรทติ้งคงอันดับเครดิตองค์กร &amp; หุ้นกู้ไม่ด้...</td>\n",
       "      <td>0+</td>\n",
       "    </tr>\n",
       "  </tbody>\n",
       "</table>\n",
       "<p>400 rows × 3 columns</p>\n",
       "</div>"
      ],
      "text/plain": [
       "                                        paragraph_info  \\\n",
       "0    ทริสเรทติ้งคงอันดับเครดิตองค์กรของ บริษัท ปริญ...   \n",
       "1    อันดับเครดิตสะท้อนถึงฐานรายได้ของบริษัทที่มีขน...   \n",
       "2    อันดับเครดิตของหุ้นกู้มีประกันของบริษัทเพิ่มขึ...   \n",
       "3    12% ในช่วงไตรมาสแรกของปี 2563 รายได้ของบริษัทอ...   \n",
       "4    ภายใต้สมมติฐานของทริสเรทติ้ง คาดว่ารายได้ของบร...   \n",
       "..                                                 ...   \n",
       "395  ในด้านส่วนแบ่งทางการตลาดเมื่อพิจารณาจากรายได้แ...   \n",
       "396  ในช่วง 3 ปีข้างหน้าทริสเรทติ้งคาดว่ารายได้จากก...   \n",
       "397  ทริสเรทติ้งมองว่าบริษัททรู คอร์ปอเรชั่น มีจําน...   \n",
       "398  นอกจากนี้ ในเดือนกุมภาพันธ์ 2563 บริษัททรู มูฟ...   \n",
       "399  ทรูออนไลน์ (TrueOnline) ซึ่งเป็นธุรกิจอินเทอร์...   \n",
       "\n",
       "                                                 title Pat  \n",
       "0    ทริสเรทติ้งจัดอันดับเครดิตหุ้นกู้ไม่ด้อยสิทธิ ...   0  \n",
       "1    ทริสเรทติ้งจัดอันดับเครดิตหุ้นกู้ไม่ด้อยสิทธิ ...  0-  \n",
       "2    ทริสเรทติ้งจัดอันดับเครดิตหุ้นกู้ไม่ด้อยสิทธิ ...   0  \n",
       "3    ทริสเรทติ้งจัดอันดับเครดิตหุ้นกู้ไม่ด้อยสิทธิ ...   0  \n",
       "4    ทริสเรทติ้งจัดอันดับเครดิตหุ้นกู้ไม่ด้อยสิทธิ ...  0+  \n",
       "..                                                 ...  ..  \n",
       "395  ทริสเรทติ้งคงอันดับเครดิตองค์กร & หุ้นกู้ไม่ด้...  0+  \n",
       "396  ทริสเรทติ้งคงอันดับเครดิตองค์กร & หุ้นกู้ไม่ด้...  0+  \n",
       "397  ทริสเรทติ้งคงอันดับเครดิตองค์กร & หุ้นกู้ไม่ด้...   0  \n",
       "398  ทริสเรทติ้งคงอันดับเครดิตองค์กร & หุ้นกู้ไม่ด้...   1  \n",
       "399  ทริสเรทติ้งคงอันดับเครดิตองค์กร & หุ้นกู้ไม่ด้...  0+  \n",
       "\n",
       "[400 rows x 3 columns]"
      ]
     },
     "execution_count": 164,
     "metadata": {},
     "output_type": "execute_result"
    }
   ],
   "source": [
    "df.drop(['link'], axis=1)"
   ]
  },
  {
   "cell_type": "code",
   "execution_count": 165,
   "id": "981accf0",
   "metadata": {},
   "outputs": [
    {
     "name": "stdout",
     "output_type": "stream",
     "text": [
      "<class 'pandas.core.frame.DataFrame'>\n",
      "RangeIndex: 400 entries, 0 to 399\n",
      "Data columns (total 4 columns):\n",
      " #   Column          Non-Null Count  Dtype \n",
      "---  ------          --------------  ----- \n",
      " 0   link            400 non-null    object\n",
      " 1   paragraph_info  400 non-null    object\n",
      " 2   title           400 non-null    object\n",
      " 3   Pat             400 non-null    object\n",
      "dtypes: object(4)\n",
      "memory usage: 12.6+ KB\n"
     ]
    }
   ],
   "source": [
    "df.info()"
   ]
  },
  {
   "cell_type": "code",
   "execution_count": 166,
   "id": "8e72ead4",
   "metadata": {},
   "outputs": [
    {
     "data": {
      "text/plain": [
       "link              0\n",
       "paragraph_info    0\n",
       "title             0\n",
       "Pat               0\n",
       "dtype: int64"
      ]
     },
     "execution_count": 166,
     "metadata": {},
     "output_type": "execute_result"
    }
   ],
   "source": [
    "df.isnull().sum()"
   ]
  },
  {
   "cell_type": "markdown",
   "id": "f9b98399",
   "metadata": {},
   "source": [
    "There are no missing or null values"
   ]
  },
  {
   "cell_type": "markdown",
   "id": "d04bcfdd",
   "metadata": {},
   "source": [
    "# 1. EDA"
   ]
  },
  {
   "cell_type": "code",
   "execution_count": 167,
   "id": "8c36a405",
   "metadata": {},
   "outputs": [
    {
     "data": {
      "text/plain": [
       "0       0\n",
       "1      0-\n",
       "2       0\n",
       "3       0\n",
       "4      0+\n",
       "       ..\n",
       "395    0+\n",
       "396    0+\n",
       "397     0\n",
       "398     1\n",
       "399    0+\n",
       "Name: Pat, Length: 400, dtype: object"
      ]
     },
     "execution_count": 167,
     "metadata": {},
     "output_type": "execute_result"
    }
   ],
   "source": [
    "df['Pat']"
   ]
  },
  {
   "cell_type": "code",
   "execution_count": 168,
   "id": "4a3ce2a7",
   "metadata": {},
   "outputs": [
    {
     "data": {
      "text/plain": [
       "0       197\n",
       "0+       65\n",
       "-1       64\n",
       "0-       51\n",
       "1        22\n",
       "0--1      1\n",
       "Name: Pat, dtype: int64"
      ]
     },
     "execution_count": 168,
     "metadata": {},
     "output_type": "execute_result"
    }
   ],
   "source": [
    "df['Pat'].value_counts()"
   ]
  },
  {
   "cell_type": "markdown",
   "id": "7e9325c1",
   "metadata": {},
   "source": [
    "There is a row with unusual Pat score, I dropped it. "
   ]
  },
  {
   "cell_type": "code",
   "execution_count": 172,
   "id": "8e607395",
   "metadata": {},
   "outputs": [],
   "source": [
    "df=df.drop(labels=[368], axis=0)"
   ]
  },
  {
   "cell_type": "code",
   "execution_count": 177,
   "id": "1c254c2a",
   "metadata": {},
   "outputs": [
    {
     "data": {
      "text/plain": [
       "(399, 4)"
      ]
     },
     "execution_count": 177,
     "metadata": {},
     "output_type": "execute_result"
    }
   ],
   "source": [
    "df.shape"
   ]
  },
  {
   "cell_type": "code",
   "execution_count": 182,
   "id": "e26c5b9c",
   "metadata": {},
   "outputs": [
    {
     "data": {
      "text/plain": [
       "<AxesSubplot:title={'center':'Count of Reviews by Tris Rating'}>"
      ]
     },
     "execution_count": 182,
     "metadata": {},
     "output_type": "execute_result"
    },
    {
     "data": {
      "image/png": "[encoded data removed]",
      "text/plain": [
       "<Figure size 1000x600 with 1 Axes>"
      ]
     },
     "metadata": {},
     "output_type": "display_data"
    }
   ],
   "source": [
    "df['Pat'].value_counts().sort_index().plot(kind='bar', title='Count of Reviews by Tris Rating', figsize=(10,6))"
   ]
  },
  {
   "cell_type": "code",
   "execution_count": 183,
   "id": "e123ab92",
   "metadata": {},
   "outputs": [
    {
     "data": {
      "image/png": "[encoded data removed]",
      "text/plain": [
       "<Figure size 1000x600 with 1 Axes>"
      ]
     },
     "metadata": {},
     "output_type": "display_data"
    }
   ],
   "source": [
    "ax = df['Pat'].value_counts().sort_index().plot(kind='bar', title='Count of Reviews by Tris Rating', figsize=(10,6))\n",
    "ax.set_xlabel('Pat Score')\n",
    "ax.set_ylabel('Number of Reviews')\n",
    "plt.show()"
   ]
  },
  {
   "cell_type": "markdown",
   "id": "acbf5ddb",
   "metadata": {},
   "source": [
    "# Observations : \n",
    "# most comments are neutral (0), slightly positive (0+) and negative (-1)\n",
    "Recall the classes\n",
    "- positive/1, \n",
    "- slightly positive/0+, \n",
    "- neutral/0,\n",
    "- slightly negative/0-, or \n",
    "- negative/-1"
   ]
  },
  {
   "cell_type": "markdown",
   "id": "62eeea34",
   "metadata": {},
   "source": [
    "# 2. PyThaiNLP (along NLTK)\n",
    "\n",
    "For tokenization and POS tagging, I used both NLTK and PyThaiNLP to cross-check. It works fine."
   ]
  },
  {
   "cell_type": "code",
   "execution_count": 184,
   "id": "15ecb109",
   "metadata": {},
   "outputs": [
    {
     "name": "stdout",
     "output_type": "stream",
     "text": [
      "อันดับเครดิตสะท้อนถึงฐานรายได้ของบริษัทที่มีขนาดเล็ก ภาระหนี้ระดับปานกลาง และ ความสามารถในการทํากําไรที่อยู่ในระดับที่ยอมรับได้ อันดับเครดิตยังคํานึงถึงวัฏจักรของธุรกิจ อสังหาริมทรัพย์เพื่ออยู่อาศัยและความต้องการที่อยู่อาศัยที่ชะลอตัวอันเนื่องมาจากผลกระทบทาง เศรษฐกิจจากการแพร่ระบาดของไวรัสโควิด-19 ซึ่งเพิ่มความกดดันต่อเศรษฐกิจที่อ่อนแออยู่แล้ว\n"
     ]
    }
   ],
   "source": [
    "example = df['paragraph_info'][1]\n",
    "print(example)"
   ]
  },
  {
   "cell_type": "code",
   "execution_count": 185,
   "id": "351bd868",
   "metadata": {},
   "outputs": [
    {
     "data": {
      "text/plain": [
       "['อันดับเครดิตสะท้อนถึงฐานรายได้ของบริษัทที่มีขนาดเล็ก',\n",
       " 'ภาระหนี้ระดับปานกลาง',\n",
       " 'และ',\n",
       " 'ความสามารถในการทํากําไรที่อยู่ในระดับที่ยอมรับได้',\n",
       " 'อันดับเครดิตยังคํานึงถึงวัฏจักรของธุรกิจ',\n",
       " 'อสังหาริมทรัพย์เพื่ออยู่อาศัยและความต้องการที่อยู่อาศัยที่ชะลอตัวอันเนื่องมาจากผลกระทบทาง',\n",
       " 'เศรษฐกิจจากการแพร่ระบาดของไวรัสโควิด-19',\n",
       " 'ซึ่งเพิ่มความกดดันต่อเศรษฐกิจที่อ่อนแออยู่แล้ว']"
      ]
     },
     "execution_count": 185,
     "metadata": {},
     "output_type": "execute_result"
    }
   ],
   "source": [
    "nltk.word_tokenize(example)"
   ]
  },
  {
   "cell_type": "markdown",
   "id": "b73556b8",
   "metadata": {},
   "source": [
    "The rating reflects the company's small revenue base. Moderate leverage and acceptable profitability The rating also takes into consideration the business cycle. Residential real estate and housing demand slowdown due to economic impact economy from the spread of the COVID-19 virus That adds to the pressure on an already weak economy. Below I tried the same thing using PyThaiNlp the package available for processing Thai Language instead of NLTK."
   ]
  },
  {
   "cell_type": "code",
   "execution_count": 187,
   "id": "4e3784f8",
   "metadata": {},
   "outputs": [
    {
     "data": {
      "text/plain": [
       "['อันดับ',\n",
       " 'เครดิต',\n",
       " 'สะท้อน',\n",
       " 'ถึง',\n",
       " 'ฐาน',\n",
       " 'รายได้',\n",
       " 'ของ',\n",
       " 'บริษัท',\n",
       " 'ที่',\n",
       " 'มี',\n",
       " 'ขนาดเล็ก',\n",
       " ' ',\n",
       " 'ภาระ',\n",
       " 'หนี้',\n",
       " 'ระดับปานกลาง',\n",
       " ' ',\n",
       " 'และ',\n",
       " ' ',\n",
       " 'ความสามารถ',\n",
       " 'ใน',\n",
       " 'กา',\n",
       " 'รท',\n",
       " 'ํากํา',\n",
       " 'ไร',\n",
       " 'ที่อยู่',\n",
       " 'ใน',\n",
       " 'ระดับ',\n",
       " 'ที่ยอมรับ',\n",
       " 'ได้',\n",
       " ' ',\n",
       " 'อันดับ',\n",
       " 'เครดิต',\n",
       " 'ยัง',\n",
       " 'คํา',\n",
       " 'นึง',\n",
       " 'ถึง',\n",
       " 'วัฏจักร',\n",
       " 'ของ',\n",
       " 'ธุรกิจ',\n",
       " ' ',\n",
       " 'อสังหาริมทรัพย์',\n",
       " 'เพื่อ',\n",
       " 'อยู่อาศัย',\n",
       " 'และ',\n",
       " 'ความต้องการ',\n",
       " 'ที่อยู่',\n",
       " 'อาศัยที่',\n",
       " 'ชะลอตัว',\n",
       " 'อันเนื่องมาจาก',\n",
       " 'ผลกระทบ',\n",
       " 'ทาง',\n",
       " ' ',\n",
       " 'เศรษฐกิจ',\n",
       " 'จาก',\n",
       " 'การ',\n",
       " 'แพร่ระบาด',\n",
       " 'ของ',\n",
       " 'ไวรัส',\n",
       " 'โควิด',\n",
       " '-',\n",
       " '19',\n",
       " ' ',\n",
       " 'ซึ่ง',\n",
       " 'เพิ่ม',\n",
       " 'ความกดดัน',\n",
       " 'ต่อ',\n",
       " 'เศรษฐกิจ',\n",
       " 'ที่',\n",
       " 'อ่อนแอ',\n",
       " 'อยู่แล้ว']"
      ]
     },
     "execution_count": 187,
     "metadata": {},
     "output_type": "execute_result"
    }
   ],
   "source": [
    "import pythainlp\n",
    "pythainlp.word_tokenize(example)"
   ]
  },
  {
   "cell_type": "code",
   "execution_count": 188,
   "id": "2c35a1e6",
   "metadata": {},
   "outputs": [
    {
     "data": {
      "text/plain": [
       "['อันดับเครดิตสะท้อนถึงฐานรายได้ของบริษัทที่มีขนาดเล็ก',\n",
       " 'ภาระหนี้ระดับปานกลาง',\n",
       " 'และ',\n",
       " 'ความสามารถในการทํากําไรที่อยู่ในระดับที่ยอมรับได้',\n",
       " 'อันดับเครดิตยังคํานึงถึงวัฏจักรของธุรกิจ',\n",
       " 'อสังหาริมทรัพย์เพื่ออยู่อาศัยและความต้องการที่อยู่อาศัยที่ชะลอตัวอันเนื่องมาจากผลกระทบทาง',\n",
       " 'เศรษฐกิจจากการแพร่ระบาดของไวรัสโควิด-19',\n",
       " 'ซึ่งเพิ่มความกดดันต่อเศรษฐกิจที่อ่อนแออยู่แล้ว']"
      ]
     },
     "execution_count": 188,
     "metadata": {},
     "output_type": "execute_result"
    }
   ],
   "source": [
    "tokens = nltk.word_tokenize(example)\n",
    "tokens[:10]"
   ]
  },
  {
   "cell_type": "code",
   "execution_count": 189,
   "id": "0fab0a4b",
   "metadata": {},
   "outputs": [
    {
     "name": "stderr",
     "output_type": "stream",
     "text": [
      "[nltk_data] Downloading package averaged_perceptron_tagger to\n",
      "[nltk_data]     C:\\Users\\HP\\AppData\\Roaming\\nltk_data...\n",
      "[nltk_data]   Package averaged_perceptron_tagger is already up-to-\n",
      "[nltk_data]       date!\n",
      "[nltk_data] Downloading package words to\n",
      "[nltk_data]     C:\\Users\\HP\\AppData\\Roaming\\nltk_data...\n",
      "[nltk_data]   Package words is already up-to-date!\n"
     ]
    },
    {
     "data": {
      "text/plain": [
       "[('อันดับเครดิตสะท้อนถึงฐานรายได้ของบริษัทที่มีขนาดเล็ก', 'JJ'),\n",
       " ('ภาระหนี้ระดับปานกลาง', 'NNP'),\n",
       " ('และ', 'NNP'),\n",
       " ('ความสามารถในการทํากําไรที่อยู่ในระดับที่ยอมรับได้', 'NNP'),\n",
       " ('อันดับเครดิตยังคํานึงถึงวัฏจักรของธุรกิจ', 'NNP'),\n",
       " ('อสังหาริมทรัพย์เพื่ออยู่อาศัยและความต้องการที่อยู่อาศัยที่ชะลอตัวอันเนื่องมาจากผลกระทบทาง',\n",
       "  'NNP'),\n",
       " ('เศรษฐกิจจากการแพร่ระบาดของไวรัสโควิด-19', 'JJ'),\n",
       " ('ซึ่งเพิ่มความกดดันต่อเศรษฐกิจที่อ่อนแออยู่แล้ว', 'NN')]"
      ]
     },
     "execution_count": 189,
     "metadata": {},
     "output_type": "execute_result"
    }
   ],
   "source": [
    "import nltk\n",
    "nltk.download('averaged_perceptron_tagger')\n",
    "nltk.download('words')\n",
    "nltk.pos_tag(tokens)"
   ]
  },
  {
   "cell_type": "code",
   "execution_count": 190,
   "id": "e8453553",
   "metadata": {},
   "outputs": [
    {
     "data": {
      "text/plain": [
       "[('อันดับเครดิตสะท้อนถึงฐานรายได้ของบริษัทที่มีขนาดเล็ก', 'JJ'),\n",
       " ('ภาระหนี้ระดับปานกลาง', 'NNP'),\n",
       " ('และ', 'NNP'),\n",
       " ('ความสามารถในการทํากําไรที่อยู่ในระดับที่ยอมรับได้', 'NNP'),\n",
       " ('อันดับเครดิตยังคํานึงถึงวัฏจักรของธุรกิจ', 'NNP'),\n",
       " ('อสังหาริมทรัพย์เพื่ออยู่อาศัยและความต้องการที่อยู่อาศัยที่ชะลอตัวอันเนื่องมาจากผลกระทบทาง',\n",
       "  'NNP'),\n",
       " ('เศรษฐกิจจากการแพร่ระบาดของไวรัสโควิด-19', 'JJ'),\n",
       " ('ซึ่งเพิ่มความกดดันต่อเศรษฐกิจที่อ่อนแออยู่แล้ว', 'NN')]"
      ]
     },
     "execution_count": 190,
     "metadata": {},
     "output_type": "execute_result"
    }
   ],
   "source": [
    "#let us try the same using \"Py Thai NLP\" package, it works as same. So going forward we can either use NLTK or PyThaiNLP instead.\n",
    "# One drawback about PyThaiNLP is that it is compatible to only Thai Language as compared to NLTK\n",
    "import pythainlp\n",
    "nltk.pos_tag(tokens)"
   ]
  },
  {
   "cell_type": "markdown",
   "id": "e0da66c4",
   "metadata": {},
   "source": [
    "each token with parts of the speech, detail tagging can be found at https://pythonprogramming.net/natural-language-toolkit-nltk-part-speech-tagging ;\n",
    "for example, in the above tokens, ภาระหนี้ระดับปานกลาง (Moderate Debt Load) which is labelled 'NNP' that is proper noun, singular."
   ]
  },
  {
   "cell_type": "code",
   "execution_count": 191,
   "id": "d71374ab",
   "metadata": {},
   "outputs": [
    {
     "data": {
      "text/plain": [
       "[('อันดับเครดิตสะท้อนถึงฐานรายได้ของบริษัทที่มีขนาดเล็ก', 'JJ'),\n",
       " ('ภาระหนี้ระดับปานกลาง', 'NNP'),\n",
       " ('และ', 'NNP'),\n",
       " ('ความสามารถในการทํากําไรที่อยู่ในระดับที่ยอมรับได้', 'NNP'),\n",
       " ('อันดับเครดิตยังคํานึงถึงวัฏจักรของธุรกิจ', 'NNP')]"
      ]
     },
     "execution_count": 191,
     "metadata": {},
     "output_type": "execute_result"
    }
   ],
   "source": [
    "tagged = nltk.pos_tag(tokens)\n",
    "tagged[:5]"
   ]
  },
  {
   "cell_type": "code",
   "execution_count": 192,
   "id": "3db9bd12",
   "metadata": {},
   "outputs": [
    {
     "name": "stdout",
     "output_type": "stream",
     "text": [
      "(S\n",
      "  อันดับเครดิตสะท้อนถึงฐานรายได้ของบริษัทที่มีขนาดเล็ก/JJ\n",
      "  ภาระหนี้ระดับปานกลาง/NNP\n",
      "  และ/NNP\n",
      "  ความสามารถในการทํากําไรที่อยู่ในระดับที่ยอมรับได้/NNP\n",
      "  อันดับเครดิตยังคํานึงถึงวัฏจักรของธุรกิจ/NNP\n",
      "  อสังหาริมทรัพย์เพื่ออยู่อาศัยและความต้องการที่อยู่อาศัยที่ชะลอตัวอันเนื่องมาจากผลกระทบทาง/NNP\n",
      "  เศรษฐกิจจากการแพร่ระบาดของไวรัสโควิด-19/JJ\n",
      "  ซึ่งเพิ่มความกดดันต่อเศรษฐกิจที่อ่อนแออยู่แล้ว/NN)\n"
     ]
    },
    {
     "name": "stderr",
     "output_type": "stream",
     "text": [
      "[nltk_data] Downloading package maxent_ne_chunker to\n",
      "[nltk_data]     C:\\Users\\HP\\AppData\\Roaming\\nltk_data...\n",
      "[nltk_data]   Package maxent_ne_chunker is already up-to-date!\n"
     ]
    }
   ],
   "source": [
    "import nltk\n",
    "nltk.download('maxent_ne_chunker')\n",
    "entities = nltk.chunk.ne_chunk(tagged)\n",
    "entities.pprint()"
   ]
  },
  {
   "cell_type": "markdown",
   "id": "bb048bea",
   "metadata": {},
   "source": [
    "This chunks this into a sentence and along the specific parts of speech. I had to download the module named maxnet_ne_chunker"
   ]
  },
  {
   "cell_type": "markdown",
   "id": "a1a9f1a3",
   "metadata": {},
   "source": [
    "# 3. Sentiment Scoring"
   ]
  },
  {
   "cell_type": "markdown",
   "id": "2a8ad385",
   "metadata": {},
   "source": [
    "I used NLTK for VADER and for sentiment analysis. Worked as expected as the sentiment scores suggest below."
   ]
  },
  {
   "cell_type": "code",
   "execution_count": 193,
   "id": "209eb781",
   "metadata": {},
   "outputs": [],
   "source": [
    "import pythainlp\n",
    "from pythainlp import sentiment"
   ]
  },
  {
   "cell_type": "markdown",
   "id": "a5242fa8",
   "metadata": {},
   "source": [
    "At this point, I just solved a big trouble that I encountered while sentiment analysis using PyThaiNLP, the package does not contain a 'sentiment analyzer' tool, hence I had to manually create a module and called as above."
   ]
  },
  {
   "cell_type": "code",
   "execution_count": 194,
   "id": "8595cbab",
   "metadata": {},
   "outputs": [
    {
     "data": {
      "text/plain": [
       "{'neg': 0.0, 'neu': 1.0, 'pos': 0.0, 'compound': 0.0}"
      ]
     },
     "execution_count": 194,
     "metadata": {},
     "output_type": "execute_result"
    }
   ],
   "source": [
    "sentiment_in_ana.polarity_scores('ฉันอารมณ์เสีย')"
   ]
  },
  {
   "cell_type": "code",
   "execution_count": 119,
   "id": "88ac66bf",
   "metadata": {},
   "outputs": [
    {
     "name": "stderr",
     "output_type": "stream",
     "text": [
      "[nltk_data] Downloading package vader_lexicon to\n",
      "[nltk_data]     C:\\Users\\HP\\AppData\\Roaming\\nltk_data...\n",
      "[nltk_data]   Package vader_lexicon is already up-to-date!\n"
     ]
    },
    {
     "data": {
      "text/plain": [
       "<nltk.sentiment.vader.SentimentIntensityAnalyzer at 0x1a046b0d520>"
      ]
     },
     "execution_count": 119,
     "metadata": {},
     "output_type": "execute_result"
    }
   ],
   "source": [
    "# Valence Aware Dictionary and Sentiment Reasoner, which is a bag of words appraoch in sentiment analysis\n",
    "\n",
    "import nltk\n",
    "nltk.download('vader_lexicon')\n",
    "from nltk.sentiment import SentimentIntensityAnalyzer\n",
    "from tqdm.notebook import tqdm\n",
    "sentiment_in_ana = SentimentIntensityAnalyzer()\n",
    "sentiment_in_ana"
   ]
  },
  {
   "cell_type": "code",
   "execution_count": 195,
   "id": "9ad5b501",
   "metadata": {},
   "outputs": [
    {
     "data": {
      "text/plain": [
       "{'neg': 0.722, 'neu': 0.278, 'pos': 0.0, 'compound': -0.3818}"
      ]
     },
     "execution_count": 195,
     "metadata": {},
     "output_type": "execute_result"
    }
   ],
   "source": [
    "sentiment_in_ana.polarity_scores('I am upset')"
   ]
  },
  {
   "cell_type": "code",
   "execution_count": 196,
   "id": "47b0f4f9",
   "metadata": {},
   "outputs": [
    {
     "data": {
      "text/plain": [
       "{'neg': 0.375, 'neu': 0.625, 'pos': 0.0, 'compound': -0.5563}"
      ]
     },
     "execution_count": 196,
     "metadata": {},
     "output_type": "execute_result"
    }
   ],
   "source": [
    "sentiment_in_ana.polarity_scores('This was the most troublesome experience ever')"
   ]
  },
  {
   "cell_type": "markdown",
   "id": "c9f02c42",
   "metadata": {},
   "source": [
    "Sentiment score followed by the words in a sentence works, however, in PyThaiNLP this module is not saturated for all Thai words."
   ]
  },
  {
   "cell_type": "markdown",
   "id": "1a9b6149",
   "metadata": {},
   "source": [
    "# 4. Feature Engineering"
   ]
  },
  {
   "cell_type": "code",
   "execution_count": 207,
   "id": "463e8aa1",
   "metadata": {},
   "outputs": [
    {
     "data": {
      "text/plain": [
       "0     197\n",
       "0+     65\n",
       "-1     64\n",
       "0-     51\n",
       "1      22\n",
       "Name: Pat, dtype: int64"
      ]
     },
     "execution_count": 207,
     "metadata": {},
     "output_type": "execute_result"
    }
   ],
   "source": [
    "#let's recall the data counts, I am keeping the code as I am doing\n",
    "df['Pat'].value_counts()"
   ]
  },
  {
   "cell_type": "code",
   "execution_count": 226,
   "id": "8a0b20cb",
   "metadata": {},
   "outputs": [],
   "source": [
    "# X as a feature and y as a Label\n",
    "X = df.drop(['Pat'], axis=1)  \n",
    "y = df[\"Pat\"]"
   ]
  },
  {
   "cell_type": "code",
   "execution_count": 227,
   "id": "4b01eb55",
   "metadata": {},
   "outputs": [
    {
     "data": {
      "text/plain": [
       "0     49.373434\n",
       "0+    16.290727\n",
       "-1    16.040100\n",
       "0-    12.781955\n",
       "1      5.513784\n",
       "Name: Pat, dtype: float64"
      ]
     },
     "execution_count": 227,
     "metadata": {},
     "output_type": "execute_result"
    }
   ],
   "source": [
    "y.value_counts()/len(df)*100"
   ]
  },
  {
   "cell_type": "code",
   "execution_count": 228,
   "id": "d7dea4f0",
   "metadata": {},
   "outputs": [],
   "source": [
    "#imbalanced learn comes along the package scikit learn, checked using pip install, \n",
    "#if not installed, use pip to install it using pip install imblearn\n",
    "\n",
    "from imblearn.over_sampling import RandomOverSampler\n",
    "under_sampler = RandomOverSampler(random_state = 42)\n",
    "X, y = under_sampler.fit_resample(X, y)"
   ]
  },
  {
   "cell_type": "code",
   "execution_count": 229,
   "id": "356b22dd",
   "metadata": {},
   "outputs": [
    {
     "data": {
      "text/plain": [
       "0     20.0\n",
       "0-    20.0\n",
       "0+    20.0\n",
       "-1    20.0\n",
       "1     20.0\n",
       "Name: Pat, dtype: float64"
      ]
     },
     "execution_count": 229,
     "metadata": {},
     "output_type": "execute_result"
    }
   ],
   "source": [
    "y.value_counts()/len(y)*100"
   ]
  },
  {
   "cell_type": "code",
   "execution_count": 236,
   "id": "b7889485",
   "metadata": {},
   "outputs": [
    {
     "name": "stdout",
     "output_type": "stream",
     "text": [
      "[[0.10567079 0.05282261 0.         ... 0.16333384 0.         0.        ]\n",
      " [0.10095942 0.         0.         ... 0.         0.         0.        ]\n",
      " [0.09855562 0.04676807 0.         ... 0.         0.         0.        ]\n",
      " ...\n",
      " [0.05998973 0.         0.         ... 0.         0.         0.        ]\n",
      " [0.093328   0.         0.         ... 0.         0.         0.        ]\n",
      " [0.11065153 0.09189154 0.09191164 ... 0.         0.         0.        ]]\n"
     ]
    }
   ],
   "source": [
    "# TfidfVectorizer helps to count the most frequently used words\n",
    "# tokenize helps to split sentences to words that is used earlier\n",
    "# we are gonna count using vector to build the model\n",
    "\n",
    "from sklearn.feature_extraction.text import TfidfVectorizer\n",
    "from pythainlp.tokenize import word_tokenize\n",
    "\n",
    "tfidf = TfidfVectorizer(tokenizer=word_tokenize, ngram_range=(1,2), min_df=20, sublinear_tf=True)\n",
    "X_vector = tfidf.fit_transform(X[\"paragraph_info\"]).toarray()\n",
    "print(X_vector)"
   ]
  },
  {
   "cell_type": "markdown",
   "id": "a1014bab",
   "metadata": {},
   "source": [
    "# 5. Spliting Data & Model Building"
   ]
  },
  {
   "cell_type": "code",
   "execution_count": 415,
   "id": "0e815c2b",
   "metadata": {},
   "outputs": [],
   "source": [
    "# firts, split train and test data\n",
    "# Initially, test data size 20% and train data size 80%\n",
    "\n",
    "from sklearn.model_selection import train_test_split\n",
    "x_train, x_test, y_train, y_test = train_test_split(X_vector, y, test_size = 0.2, random_state = 1413 )"
   ]
  },
  {
   "cell_type": "code",
   "execution_count": 416,
   "id": "e89d56ec",
   "metadata": {},
   "outputs": [
    {
     "data": {
      "text/plain": [
       "((788, 1511), (197, 1511))"
      ]
     },
     "execution_count": 416,
     "metadata": {},
     "output_type": "execute_result"
    }
   ],
   "source": [
    "x_train.shape, x_test.shape"
   ]
  },
  {
   "cell_type": "markdown",
   "id": "577a57c6",
   "metadata": {},
   "source": [
    "788 data for training and 197 for testing from a total of 985 data"
   ]
  },
  {
   "cell_type": "code",
   "execution_count": 460,
   "id": "f6b88d6e",
   "metadata": {},
   "outputs": [
    {
     "name": "stdout",
     "output_type": "stream",
     "text": [
      "AI Gen SET Index Sentiment Accuracy: 98.00%\n"
     ]
    }
   ],
   "source": [
    "# building model using above train and test dataset\n",
    "# Logistic Regression suits best\n",
    "# with optimizer (solver) and multi_class as 'ovr'\n",
    "# Yet, I will re-do the same steps going forward to obtain a better accuracy\n",
    "# Let's see\n",
    "\n",
    "from sklearn.linear_model import LogisticRegression\n",
    "model_twenteight = LogisticRegression(C=1, solver='liblinear', multi_class=\"ovr\")\n",
    "model_twenteight.fit(x_train, y_train)\n",
    "print(f\"AI Gen SET Index Sentiment Accuracy: {model_twenteight.score(x_test, y_test)*100:.2f}%\")"
   ]
  },
  {
   "cell_type": "code",
   "execution_count": 461,
   "id": "0e0dd402",
   "metadata": {},
   "outputs": [],
   "source": [
    "# saving the model\n",
    "import pickle\n",
    "filename = 'AI_Gen_Sentiment_Analysis.pkl'\n",
    "pickle.dump(model, open(filename, 'wb'))"
   ]
  },
  {
   "cell_type": "code",
   "execution_count": 462,
   "id": "bf149883",
   "metadata": {},
   "outputs": [
    {
     "name": "stdout",
     "output_type": "stream",
     "text": [
      "0.98\n"
     ]
    }
   ],
   "source": [
    "# loading the model from disc\n",
    "loaded_model = pickle.load(open(filename, 'rb'))\n",
    "result = loaded_model.score(x_test, y_test)\n",
    "print(result)"
   ]
  },
  {
   "cell_type": "markdown",
   "id": "91fc1cc8",
   "metadata": {},
   "source": [
    "# Done !!"
   ]
  },
  {
   "cell_type": "markdown",
   "id": "8616676c",
   "metadata": {},
   "source": [
    "# 6. Hyperparameter Tuning"
   ]
  },
  {
   "cell_type": "code",
   "execution_count": 437,
   "id": "211db844",
   "metadata": {},
   "outputs": [
    {
     "name": "stdout",
     "output_type": "stream",
     "text": [
      "AI Gen SET Index Sentiment Accuracy: 96.97%\n"
     ]
    }
   ],
   "source": [
    "# building model using multi_class as 'auto', In the multiclass case, \n",
    "# the training algorithm uses the one-vs-rest (OvR) scheme if the ‘multi_class’ \n",
    "# option is set to ‘ovr’, and uses the cross-entropy loss if the ‘multi_class’ \n",
    "# option is set to ‘multinomial’. Currently the ‘multinomial’ option is supported \n",
    "# only by the ‘lbfgs’, ‘sag’, ‘saga’ and ‘newton-cg’ solvers which is \"liblinear\"\n",
    "\n",
    "from sklearn.linear_model import LogisticRegression\n",
    "model_twenteight = LogisticRegression(C=1, solver='liblinear', multi_class=\"auto\")\n",
    "model_twenteight.fit(x_train, y_train)\n",
    "print(f\"AI Gen SET Index Sentiment Accuracy: {model_twenteight.score(x_test, y_test)*100:.2f}%\")"
   ]
  },
  {
   "cell_type": "markdown",
   "id": "ea1ba9cc",
   "metadata": {},
   "source": [
    "96.97% accuracy! From Ln 415 to 517 is gonna be repeated with different values of parameters, we call it Hyperparameter tuning. Going forward I will use this model for testing and analysing further as this split size is optimum and acceptable for NLP models."
   ]
  },
  {
   "cell_type": "code",
   "execution_count": 438,
   "id": "5528d510",
   "metadata": {},
   "outputs": [],
   "source": [
    "# test data 30% and train data 70%\n",
    "from sklearn.model_selection import train_test_split\n",
    "x_train, x_test, y_train, y_test = train_test_split(X_vector, y, test_size = 0.3, random_state = 1412)"
   ]
  },
  {
   "cell_type": "code",
   "execution_count": 439,
   "id": "09d906e8",
   "metadata": {},
   "outputs": [
    {
     "data": {
      "text/plain": [
       "((689, 1511), (296, 1511))"
      ]
     },
     "execution_count": 439,
     "metadata": {},
     "output_type": "execute_result"
    }
   ],
   "source": [
    "x_train.shape, x_test.shape"
   ]
  },
  {
   "cell_type": "code",
   "execution_count": 440,
   "id": "d562bf1b",
   "metadata": {},
   "outputs": [
    {
     "name": "stdout",
     "output_type": "stream",
     "text": [
      "AI Gen SET Index Sentiment Accuracy: 87.84%\n"
     ]
    }
   ],
   "source": [
    "from sklearn.linear_model import LogisticRegression\n",
    "model = LogisticRegression(C=1, solver='liblinear', multi_class=\"ovr\")\n",
    "model.fit(x_train, y_train)\n",
    "print(f\"AI Gen SET Index Sentiment Accuracy: {model.score(x_test, y_test)*100:.2f}%\")"
   ]
  },
  {
   "cell_type": "markdown",
   "id": "7ff0ecf4",
   "metadata": {},
   "source": [
    "Using a separate tesing data size, the accuracy looks to degrade. Let's recheck."
   ]
  },
  {
   "cell_type": "code",
   "execution_count": 441,
   "id": "1c543822",
   "metadata": {},
   "outputs": [],
   "source": [
    "# test data 40% and train data 60%\n",
    "from sklearn.model_selection import train_test_split\n",
    "x_train, x_test, y_train, y_test = train_test_split(X_vector, y, test_size = 0.4, random_state = 1412 )"
   ]
  },
  {
   "cell_type": "code",
   "execution_count": 444,
   "id": "12fae0ec",
   "metadata": {},
   "outputs": [
    {
     "name": "stdout",
     "output_type": "stream",
     "text": [
      "AI Gen SET Index Sentiment Accuracy: 94.59%\n"
     ]
    }
   ],
   "source": [
    "from sklearn.linear_model import LogisticRegression\n",
    "model = LogisticRegression(C=1, solver='liblinear', multi_class=\"ovr\")\n",
    "model.fit(x_train, y_train)\n",
    "print(f\"AI Gen SET Index Sentiment Accuracy: {model.score(x_test, y_test)*100:.2f}%\")"
   ]
  },
  {
   "cell_type": "markdown",
   "id": "7d0f8f07",
   "metadata": {},
   "source": [
    "As expected, the lower the train dataset, the less the accuracy. Let us increase the test data amount from 80% to 85%"
   ]
  },
  {
   "cell_type": "code",
   "execution_count": 448,
   "id": "ad749a6d",
   "metadata": {},
   "outputs": [],
   "source": [
    "# test data 15%\n",
    "from sklearn.model_selection import train_test_split\n",
    "x_train, x_test, y_train, y_test = train_test_split(X_vector, y, test_size = 0.15, random_state = 1412 )"
   ]
  },
  {
   "cell_type": "code",
   "execution_count": 449,
   "id": "18c70b80",
   "metadata": {},
   "outputs": [
    {
     "name": "stdout",
     "output_type": "stream",
     "text": [
      "AI Gen SET Index Sentiment Accuracy: 94.59%\n"
     ]
    }
   ],
   "source": [
    "from sklearn.linear_model import LogisticRegression\n",
    "model = LogisticRegression(C=1, solver='liblinear', multi_class=\"ovr\")\n",
    "model.fit(x_train, y_train)\n",
    "print(f\"AI Gen SET Index Sentiment Accuracy: {model.score(x_test, y_test)*100:.2f}%\")"
   ]
  },
  {
   "cell_type": "markdown",
   "id": "e0ee314d",
   "metadata": {},
   "source": [
    "The more the training data, the better the accuracy. This is what we expect."
   ]
  },
  {
   "cell_type": "code",
   "execution_count": 450,
   "id": "eb5342c5",
   "metadata": {},
   "outputs": [],
   "source": [
    "# test data 10%, training data 90%\n",
    "from sklearn.model_selection import train_test_split\n",
    "x_train, x_test, y_train, y_test = train_test_split(X_vector, y, test_size = 0.10, random_state = 1412 )"
   ]
  },
  {
   "cell_type": "code",
   "execution_count": 451,
   "id": "0dea70e3",
   "metadata": {},
   "outputs": [
    {
     "name": "stdout",
     "output_type": "stream",
     "text": [
      "AI Gen SET Index Sentiment Accuracy: 96.97%\n"
     ]
    }
   ],
   "source": [
    "from sklearn.linear_model import LogisticRegression\n",
    "model = LogisticRegression(C=1, solver='liblinear', multi_class=\"ovr\")\n",
    "model.fit(x_train, y_train)\n",
    "print(f\"AI Gen SET Index Sentiment Accuracy: {model.score(x_test, y_test)*100:.2f}%\")"
   ]
  },
  {
   "cell_type": "markdown",
   "id": "59df07ec",
   "metadata": {},
   "source": [
    "One last time, let's use 95% data as training data and see how accuracy changes"
   ]
  },
  {
   "cell_type": "code",
   "execution_count": 455,
   "id": "43823bc7",
   "metadata": {},
   "outputs": [],
   "source": [
    "# test data 5%, training data 95%\n",
    "from sklearn.model_selection import train_test_split\n",
    "x_train, x_test, y_train, y_test = train_test_split(X_vector, y, test_size = 0.05, random_state = 1412)"
   ]
  },
  {
   "cell_type": "code",
   "execution_count": 456,
   "id": "492bc52c",
   "metadata": {},
   "outputs": [
    {
     "data": {
      "text/plain": [
       "((935, 1511), (50, 1511))"
      ]
     },
     "execution_count": 456,
     "metadata": {},
     "output_type": "execute_result"
    }
   ],
   "source": [
    "# At this point, we have the following data sets\n",
    "x_train.shape, x_test.shape"
   ]
  },
  {
   "cell_type": "code",
   "execution_count": 457,
   "id": "3063770a",
   "metadata": {},
   "outputs": [
    {
     "name": "stdout",
     "output_type": "stream",
     "text": [
      "AI Gen SET Index Sentiment Accuracy: 98.00%\n"
     ]
    }
   ],
   "source": [
    "from sklearn.linear_model import LogisticRegression\n",
    "model = LogisticRegression(C=1, solver='liblinear', multi_class=\"ovr\")\n",
    "model.fit(x_train, y_train)\n",
    "print(f\"AI Gen SET Index Sentiment Accuracy: {model.score(x_test, y_test)*100:.2f}%\")"
   ]
  },
  {
   "cell_type": "markdown",
   "id": "74a3d9be",
   "metadata": {},
   "source": [
    "As seen above, we can tune the accuracy. However, the model is saved already and it will be used going forward."
   ]
  },
  {
   "cell_type": "markdown",
   "id": "56247307",
   "metadata": {},
   "source": [
    "# Conclusive Remark\n",
    "We had found a sentiment index accuracy from the given dataset as 98% ; for 20% of test data, 80% of training data and we saved the model."
   ]
  },
  {
   "cell_type": "markdown",
   "id": "b996644c",
   "metadata": {},
   "source": [
    "#  7. Validation and Testing"
   ]
  },
  {
   "cell_type": "markdown",
   "id": "1c8a4772",
   "metadata": {},
   "source": [
    "1. Determine Cross Validation"
   ]
  },
  {
   "cell_type": "code",
   "execution_count": 428,
   "id": "885fb7d8",
   "metadata": {},
   "outputs": [
    {
     "name": "stdout",
     "output_type": "stream",
     "text": [
      "AI Gen SET Index Sentiment Accuracy- Cross Validation Score: 87.93%\n"
     ]
    }
   ],
   "source": [
    "from sklearn.model_selection import cross_val_score\n",
    "scores = cross_val_score(model, x_train, y_train, cv=10)\n",
    "print(f\"AI Gen SET Index Sentiment Accuracy- Cross Validation Score: {np.mean(scores)*100:.2f}%\")"
   ]
  },
  {
   "cell_type": "markdown",
   "id": "8ada98e4",
   "metadata": {},
   "source": [
    "2. Determine Confusion Matrix"
   ]
  },
  {
   "cell_type": "code",
   "execution_count": 463,
   "id": "11655d6c",
   "metadata": {},
   "outputs": [],
   "source": [
    "from sklearn.metrics import confusion_matrix \n",
    "import seaborn as sns"
   ]
  },
  {
   "cell_type": "code",
   "execution_count": 464,
   "id": "7ee8bce4",
   "metadata": {
    "scrolled": true
   },
   "outputs": [
    {
     "data": {
      "image/png": "[encoded data removed]",
      "text/plain": [
       "<Figure size 640x480 with 2 Axes>"
      ]
     },
     "metadata": {},
     "output_type": "display_data"
    }
   ],
   "source": [
    "confusion_score = confusion_matrix(y_test, model.predict(x_test))\n",
    "sns.heatmap(confusion_score, annot=True, fmt=\"d\", xticklabels=model.classes_, yticklabels=model.classes_)\n",
    "plt.ylabel(\"Actual Data\")\n",
    "plt.xlabel(\"Predicted Data\")\n",
    "plt.show()"
   ]
  },
  {
   "cell_type": "markdown",
   "id": "fada3930",
   "metadata": {},
   "source": [
    "3. Support Vector Machine"
   ]
  },
  {
   "cell_type": "code",
   "execution_count": 373,
   "id": "ab8682b6",
   "metadata": {},
   "outputs": [
    {
     "name": "stdout",
     "output_type": "stream",
     "text": [
      "AI Gen SET Index Sentiment Support Vector Machine Accuracy: 100.000000%\n"
     ]
    }
   ],
   "source": [
    "from sklearn.svm import SVC\n",
    "support_vector_classifier = SVC()\n",
    "support_vector_classifier.fit(x_train, y_train)\n",
    "print(f\"AI Gen SET Index Sentiment Support Vector Machine Accuracy: {support_vector_classifier.score(x_test, y_test)*100:2f}%\")"
   ]
  },
  {
   "cell_type": "markdown",
   "id": "1f1d53d9",
   "metadata": {},
   "source": [
    "4. Random Forest CLassifier"
   ]
  },
  {
   "cell_type": "code",
   "execution_count": 374,
   "id": "6d10ef5f",
   "metadata": {},
   "outputs": [
    {
     "name": "stdout",
     "output_type": "stream",
     "text": [
      "AI Gen SET Index Sentiment Random Forest Classifier Accuracy: 100.000000%\n"
     ]
    }
   ],
   "source": [
    "from sklearn.ensemble import RandomForestClassifier\n",
    "randomforest = RandomForestClassifier()\n",
    "randomforest.fit(x_train, y_train)\n",
    "print(f\"AI Gen SET Index Sentiment Random Forest Classifier Accuracy: {randomforest.score(x_test, y_test)*100:2f}%\")"
   ]
  },
  {
   "cell_type": "markdown",
   "id": "3d4fc4e1",
   "metadata": {},
   "source": [
    "# Testing with random words"
   ]
  },
  {
   "cell_type": "code",
   "execution_count": 430,
   "id": "f1b21931",
   "metadata": {},
   "outputs": [
    {
     "name": "stdout",
     "output_type": "stream",
     "text": [
      "Negative\n"
     ]
    }
   ],
   "source": [
    "#testing\n",
    "\n",
    "test = \"แย่มากและไม่คาดฝัน\" \n",
    "test = tfidf.transform([test])\n",
    "prediction = model_twenteight.predict(test)\n",
    "\n",
    "if prediction[0]==1:\n",
    "    print(\"Positive\") \n",
    "if prediction[0]==+0:\n",
    "    print(\"Slightly Positive\")\n",
    "if prediction[0]==0:\n",
    "    print(\"Neutral\")\n",
    "if prediction[0]==-0:\n",
    "    print(\"Slightly Negative\")\n",
    "else:    \n",
    "    print(\"Negative\")"
   ]
  },
  {
   "cell_type": "markdown",
   "id": "307ca4ab",
   "metadata": {},
   "source": [
    "- Prediction works!! the \"แย่มากและไม่คาดฝัน\" word means 'terrible and unexpected'. \n",
    "- The above condition may further be improvised"
   ]
  },
  {
   "cell_type": "markdown",
   "id": "7eb1f4a1",
   "metadata": {},
   "source": [
    "Thank you!\n",
    "\n",
    "Navid Bin Ahmed, 12-Jan 2022, 7:34 PM Bangladesh Time"
   ]
  }
 ],
 "metadata": {
  "kernelspec": {
   "display_name": "Python 3 (ipykernel)",
   "language": "python",
   "name": "python3"
  },
  "language_info": {
   "codemirror_mode": {
    "name": "ipython",
    "version": 3
   },
   "file_extension": ".py",
   "mimetype": "text/x-python",
   "name": "python",
   "nbconvert_exporter": "python",
   "pygments_lexer": "ipython3",
   "version": "3.9.13"
  }
 },
 "nbformat": 4,
 "nbformat_minor": 5
}
